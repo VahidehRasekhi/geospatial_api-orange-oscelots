{
 "cells": [
  {
   "cell_type": "code",
   "execution_count": 1,
   "id": "7ea48254",
   "metadata": {},
   "outputs": [],
   "source": [
    "import requests\n",
    "import matplotlib.pyplot as plt\n",
    "from IPython.display import Image\n",
    "import pandas as pd\n",
    "import json"
   ]
  },
  {
   "cell_type": "code",
   "execution_count": 3,
   "id": "3459cef9",
   "metadata": {},
   "outputs": [],
   "source": [
    "endpoint= 'https://data.nashville.gov/resource/2u6v-ujjs.json'"
   ]
  },
  {
   "cell_type": "code",
   "execution_count": 23,
   "id": "8ffe1e13",
   "metadata": {},
   "outputs": [],
   "source": [
    "params ={\n",
    "    'offense_description':'AGGRAVATED BURGLARY'\n",
    "    'Incident_Reported':\n",
    "}"
   ]
  },
  {
   "cell_type": "code",
   "execution_count": 24,
   "id": "d6a1cea2",
   "metadata": {},
   "outputs": [],
   "source": [
    "response = requests.get(endpoint, params = params)"
   ]
  },
  {
   "cell_type": "code",
   "execution_count": 25,
   "id": "82043a4e",
   "metadata": {},
   "outputs": [
    {
     "data": {
      "text/plain": [
       "<Response [200]>"
      ]
     },
     "execution_count": 25,
     "metadata": {},
     "output_type": "execute_result"
    }
   ],
   "source": [
    "response"
   ]
  }
 ],
 "metadata": {
  "kernelspec": {
   "display_name": "Python 3",
   "language": "python",
   "name": "python3"
  },
  "language_info": {
   "codemirror_mode": {
    "name": "ipython",
    "version": 3
   },
   "file_extension": ".py",
   "mimetype": "text/x-python",
   "name": "python",
   "nbconvert_exporter": "python",
   "pygments_lexer": "ipython3",
   "version": "3.8.8"
  }
 },
 "nbformat": 4,
 "nbformat_minor": 5
}
