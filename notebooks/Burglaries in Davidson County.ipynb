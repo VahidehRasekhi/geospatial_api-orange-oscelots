{
 "cells": [
  {
   "cell_type": "code",
   "execution_count": 15,
   "id": "2c312ec1",
   "metadata": {},
   "outputs": [],
   "source": [
    "import requests\n",
    "import matplotlib.pyplot as plt\n",
    "from IPython.display import Image\n",
    "import pandas as pd\n",
    "import json"
   ]
  },
  {
   "cell_type": "markdown",
   "id": "4b8e10fa",
   "metadata": {},
   "source": [
    "with open('burglary.json') as fi:\n",
    "    credentials = json.load(fi)\n",
    "    \n",
    "api_key = credentials['api_key']"
   ]
  },
  {
   "cell_type": "code",
   "execution_count": 63,
   "id": "b7bfa167",
   "metadata": {},
   "outputs": [],
   "source": [
    "endpoint = 'https://data.nashville.gov/resource/2u6v-ujjs.json'"
   ]
  },
  {
   "cell_type": "code",
   "execution_count": 73,
   "id": "344231b5",
   "metadata": {},
   "outputs": [],
   "source": [
    "params = {\n",
    "    'offense_description':'AGGRAVATED BURGLARY',\n",
    "    'incident reported': '01/01/2021T00:00:00'\n",
    "}"
   ]
  },
  {
   "cell_type": "code",
   "execution_count": 74,
   "id": "8b7b16b9",
   "metadata": {},
   "outputs": [],
   "source": [
    "response = requests.get(endpoint, params = params)"
   ]
  },
  {
   "cell_type": "code",
   "execution_count": 75,
   "id": "af130f33",
   "metadata": {},
   "outputs": [
    {
     "data": {
      "text/plain": [
       "<Response [400]>"
      ]
     },
     "execution_count": 75,
     "metadata": {},
     "output_type": "execute_result"
    }
   ],
   "source": [
    "response "
   ]
  },
  {
   "cell_type": "code",
   "execution_count": 70,
   "id": "cc493e96",
   "metadata": {},
   "outputs": [],
   "source": [
    "res = response.json()"
   ]
  },
  {
   "cell_type": "code",
   "execution_count": 71,
   "id": "e7313e2c",
   "metadata": {},
   "outputs": [
    {
     "data": {
      "text/plain": [
       "list"
      ]
     },
     "execution_count": 71,
     "metadata": {},
     "output_type": "execute_result"
    }
   ],
   "source": [
    "type(res)"
   ]
  },
  {
   "cell_type": "code",
   "execution_count": 72,
   "id": "a5ee76d9",
   "metadata": {},
   "outputs": [
    {
     "ename": "AttributeError",
     "evalue": "'list' object has no attribute 'keys'",
     "output_type": "error",
     "traceback": [
      "\u001b[0;31m---------------------------------------------------------------------------\u001b[0m",
      "\u001b[0;31mAttributeError\u001b[0m                            Traceback (most recent call last)",
      "\u001b[0;32m<ipython-input-72-fa6bd5b552ae>\u001b[0m in \u001b[0;36m<module>\u001b[0;34m\u001b[0m\n\u001b[0;32m----> 1\u001b[0;31m \u001b[0mres\u001b[0m\u001b[0;34m.\u001b[0m\u001b[0mkeys\u001b[0m\u001b[0;34m(\u001b[0m\u001b[0;34m)\u001b[0m\u001b[0;34m\u001b[0m\u001b[0;34m\u001b[0m\u001b[0m\n\u001b[0m",
      "\u001b[0;31mAttributeError\u001b[0m: 'list' object has no attribute 'keys'"
     ]
    }
   ],
   "source": [
    "res.keys()"
   ]
  },
  {
   "cell_type": "code",
   "execution_count": null,
   "id": "63e89585",
   "metadata": {},
   "outputs": [],
   "source": [
    "max_diam = []\n",
    "hazardous = []\n",
    "miss_dist = []\n",
    "for day, objs in res['message'].items():\n",
    "    for obj in objs:\n",
    "        max_diam.append(float(obj['estimated_diameter']['miles']['estimated_diameter_max']))\n",
    "        hazardous.append(obj['is_potentially_hazardous_asteroid'])\n",
    "        miss_dist.append(float(obj['close_approach_data'][0]['miss_distance']['miles']))\n",
    "        \n",
    "plt.figure(figsize = (17, 10))\n",
    "plt.scatter(max_diam, miss_dist, c = hazardous)\n",
    "plt.xlabel('max diameter (miles)')\n",
    "plt.ylabel('miss distance (miles)');"
   ]
  }
 ],
 "metadata": {
  "kernelspec": {
   "display_name": "Python 3",
   "language": "python",
   "name": "python3"
  },
  "language_info": {
   "codemirror_mode": {
    "name": "ipython",
    "version": 3
   },
   "file_extension": ".py",
   "mimetype": "text/x-python",
   "name": "python",
   "nbconvert_exporter": "python",
   "pygments_lexer": "ipython3",
   "version": "3.8.8"
  }
 },
 "nbformat": 4,
 "nbformat_minor": 5
}
