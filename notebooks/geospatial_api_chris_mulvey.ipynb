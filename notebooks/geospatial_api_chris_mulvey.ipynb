{
 "cells": [
  {
   "cell_type": "code",
   "execution_count": 1,
   "id": "61c922d8",
   "metadata": {},
   "outputs": [],
   "source": [
    "import pandas as pd\n",
    "import numpy as np\n",
    "import requests"
   ]
  },
  {
   "cell_type": "markdown",
   "id": "4db7e613",
   "metadata": {},
   "source": [
    "1. A dataset containing details about Metro Nashville Police Department reported incidents is available at https://data.nashville.gov/Police/Metro-Nashville-Police-Department-Incidents/2u6v-ujjs. \n",
    "\n",
    "Make use of the API to find all aggravated burglary incidents that were reported during the six month period from January 1, 2021 through June 30, 2021."
   ]
  },
  {
   "cell_type": "code",
   "execution_count": 25,
   "id": "58e5ca1a",
   "metadata": {},
   "outputs": [],
   "source": [
    "endpoint = 'https://data.nashville.gov/resource/2u6v-ujjs.json'"
   ]
  },
  {
   "cell_type": "code",
   "execution_count": 39,
   "id": "3cad1693",
   "metadata": {},
   "outputs": [],
   "source": [
    "params = {\n",
    "    'offense_description': 'AGGRAVATED BURGLARY',\n",
    "    'where': 'reported_date between \\'2021-01-01\\' AND \\'2021-06-30\\''\n",
    "}"
   ]
  },
  {
   "cell_type": "code",
   "execution_count": 40,
   "id": "55881e16",
   "metadata": {},
   "outputs": [],
   "source": [
    "response = requests.get(endpoint,\n",
    "                        params = params )"
   ]
  },
  {
   "cell_type": "code",
   "execution_count": 41,
   "id": "efd6d874",
   "metadata": {},
   "outputs": [
    {
     "data": {
      "text/plain": [
       "<Response [400]>"
      ]
     },
     "execution_count": 41,
     "metadata": {},
     "output_type": "execute_result"
    }
   ],
   "source": [
    "response"
   ]
  },
  {
   "cell_type": "code",
   "execution_count": 38,
   "id": "ae975c50",
   "metadata": {},
   "outputs": [
    {
     "data": {
      "text/plain": [
       "'[]\\n'"
      ]
     },
     "execution_count": 38,
     "metadata": {},
     "output_type": "execute_result"
    }
   ],
   "source": [
    "response.text"
   ]
  },
  {
   "cell_type": "code",
   "execution_count": null,
   "id": "618cd071",
   "metadata": {},
   "outputs": [],
   "source": []
  }
 ],
 "metadata": {
  "kernelspec": {
   "display_name": "Python 3 (ipykernel)",
   "language": "python",
   "name": "python3"
  },
  "language_info": {
   "codemirror_mode": {
    "name": "ipython",
    "version": 3
   },
   "file_extension": ".py",
   "mimetype": "text/x-python",
   "name": "python",
   "nbconvert_exporter": "python",
   "pygments_lexer": "ipython3",
   "version": "3.8.11"
  }
 },
 "nbformat": 4,
 "nbformat_minor": 5
}
