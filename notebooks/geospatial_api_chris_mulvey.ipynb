{
 "cells": [
  {
   "cell_type": "code",
   "execution_count": 1,
   "id": "493923f5",
   "metadata": {},
   "outputs": [],
   "source": [
    "import pandas as pd\n",
    "import numpy as np\n",
    "import requests"
   ]
  },
  {
   "cell_type": "markdown",
   "id": "43f48c82",
   "metadata": {},
   "source": [
    "1. A dataset containing details about Metro Nashville Police Department reported incidents is available at https://data.nashville.gov/Police/Metro-Nashville-Police-Department-Incidents/2u6v-ujjs. \n",
    "\n",
    "Make use of the API to find all aggravated burglary incidents that were reported during the six month period from January 1, 2021 through June 30, 2021."
   ]
  },
  {
   "cell_type": "code",
   "execution_count": 25,
   "id": "d92ea900",
   "metadata": {},
   "outputs": [],
   "source": [
    "endpoint = 'https://data.nashville.gov/resource/2u6v-ujjs.json'"
   ]
  },
  {
   "cell_type": "code",
   "execution_count": 88,
   "id": "48f0f0cd",
   "metadata": {},
   "outputs": [],
   "source": [
    "params = {\n",
    "    'offense_description': 'BURGLARY',\n",
    "    'location_description': 'RESIDENCE, HOME',\n",
    "    '$where': 'incident_reported between \\'2021-01-01\\' AND \\'2021-06-30\\''\n",
    "}"
   ]
  },
  {
   "cell_type": "code",
   "execution_count": 89,
   "id": "88b05ec4",
   "metadata": {},
   "outputs": [],
   "source": [
    "response = requests.get(endpoint,\n",
    "                        params = params )"
   ]
  },
  {
   "cell_type": "code",
   "execution_count": 90,
   "id": "ee4c9807",
   "metadata": {},
   "outputs": [
    {
     "data": {
      "text/plain": [
       "<Response [200]>"
      ]
     },
     "execution_count": 90,
     "metadata": {},
     "output_type": "execute_result"
    }
   ],
   "source": [
    "response"
   ]
  },
  {
   "cell_type": "code",
   "execution_count": 91,
   "id": "1ce92f83",
   "metadata": {},
   "outputs": [
    {
     "data": {
      "text/plain": [
       "[{'primary_key': '20210127959_11',\n",
       "  'incident_number': '20210127959',\n",
       "  'report_type': 'D',\n",
       "  'report_type_description': 'DISPATCHED',\n",
       "  'incident_status_code': 'O',\n",
       "  'incident_status_description': 'OPEN',\n",
       "  'investigation_status': 'Open',\n",
       "  'incident_occurred': '2021-03-04T11:00:00.000',\n",
       "  'incident_reported': '2021-03-04T13:48:00.000',\n",
       "  'incident_location': 'CEDARMONT DR',\n",
       "  'latitude': '36.04',\n",
       "  'longitude': '-86.7',\n",
       "  'location_code': '22',\n",
       "  'location_description': 'RESIDENCE, HOME',\n",
       "  'offense_number': '1',\n",
       "  'offense_nibrs': '220',\n",
       "  'offense_description': 'BURGLARY',\n",
       "  'weapon_primary': '17',\n",
       "  'weapon_description': 'NONE',\n",
       "  'victim_number': '1',\n",
       "  'domestic_related': False,\n",
       "  'victim_type': 'I',\n",
       "  'victim_description': 'INDIVIDUAL (18 AND OVER)',\n",
       "  'victim_gender': 'F',\n",
       "  'victim_race': 'W',\n",
       "  'victim_ethnicity': 'Hispanic',\n",
       "  'victim_county_resident': 'RESIDENT',\n",
       "  'mapped_location': {'type': 'Point', 'coordinates': [-86.7, 36.04]}},\n",
       " {'primary_key': '20210125875_11',\n",
       "  'incident_number': '20210125875',\n",
       "  'report_type': 'D',\n",
       "  'report_type_description': 'DISPATCHED',\n",
       "  'incident_status_code': 'O',\n",
       "  'incident_status_description': 'OPEN',\n",
       "  'investigation_status': 'Open',\n",
       "  'incident_occurred': '2021-03-02T18:17:00.000',\n",
       "  'incident_reported': '2021-03-03T18:45:00.000',\n",
       "  'incident_location': 'N GRAYCROFT AVE',\n",
       "  'latitude': '36.29',\n",
       "  'longitude': '-86.71',\n",
       "  'location_code': '22',\n",
       "  'location_description': 'RESIDENCE, HOME',\n",
       "  'offense_number': '1',\n",
       "  'offense_nibrs': '220',\n",
       "  'offense_description': 'BURGLARY',\n",
       "  'weapon_primary': '09',\n",
       "  'weapon_description': 'PERSONAL (HANDS)',\n",
       "  'victim_number': '1',\n",
       "  'domestic_related': True,\n",
       "  'victim_type': 'I',\n",
       "  'victim_description': 'INDIVIDUAL (18 AND OVER)',\n",
       "  'victim_gender': 'F',\n",
       "  'victim_race': 'B',\n",
       "  'victim_ethnicity': 'Non-Hispanic',\n",
       "  'victim_county_resident': 'RESIDENT',\n",
       "  'mapped_location': {'type': 'Point', 'coordinates': [-86.71, 36.29]}}]"
      ]
     },
     "execution_count": 91,
     "metadata": {},
     "output_type": "execute_result"
    }
   ],
   "source": [
    "response.json()"
   ]
  },
  {
   "cell_type": "code",
   "execution_count": null,
   "id": "a58893ae",
   "metadata": {},
   "outputs": [],
   "source": []
  }
 ],
 "metadata": {
  "kernelspec": {
   "display_name": "Python 3 (ipykernel)",
   "language": "python",
   "name": "python3"
  },
  "language_info": {
   "codemirror_mode": {
    "name": "ipython",
    "version": 3
   },
   "file_extension": ".py",
   "mimetype": "text/x-python",
   "name": "python",
   "nbconvert_exporter": "python",
   "pygments_lexer": "ipython3",
   "version": "3.8.11"
  }
 },
 "nbformat": 4,
 "nbformat_minor": 5
}
